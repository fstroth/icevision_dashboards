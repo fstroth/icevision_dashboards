{
 "cells": [
  {
   "cell_type": "markdown",
   "metadata": {},
   "source": [
    "# IceVisionDashboard"
   ]
  },
  {
   "cell_type": "markdown",
   "metadata": {},
   "source": [
    "[![Binder](https://mybinder.org/badge_logo.svg)](https://mybinder.org/v2/gh/fstroth/icevision_dashboards/HEAD)\n",
    "\n",
    "\n",
    "IceVisionDashboard is an extension to the [IceVision](https://github.com/airctic/icevision) object detection framework. Main goal of the library is to support data scientists with there work on object detection problems. This is done by providing different dashboards to provide different steps of the workflow. The dashboards cover investigating datasets, creating new datasets, comparing datasets and analyzing the results of a training."
   ]
  },
  {
   "cell_type": "markdown",
   "metadata": {},
   "source": [
    "## Test stuff"
   ]
  },
  {
   "cell_type": "markdown",
   "metadata": {},
   "source": [
    "## Example"
   ]
  },
  {
   "cell_type": "markdown",
   "metadata": {},
   "source": [
    "The example shows how a set of records (here the training_records) can be visualized with the dashboard lib to get some fast insights into the data. The last 3 lines of code are from the dashboard library all the lines before are usual icevision code.\n",
    "\n",
    "```python\n",
    "from icevision_dashboards.data import BboxRecordDataset\n",
    "from icevision_dashboards.dashboards import ObjectDetectionDatasetOverview\n",
    "# load some data from the icedata\n",
    "data_dir = icedata.fridge.load_data()\n",
    "class_map = icedata.fridge.class_map()\n",
    "parser = icedata.fridge.parser(data_dir)\n",
    "train_records, valid_records = test_parser.parse()\n",
    "# create a dataset that can be consumed by the dashboards\n",
    "train_dash_ds = BboxRecordDataset(train_records, class_map)\n",
    "# create a new dashboard instance and display it with the .show() function\n",
    "overview_dashboard = ObjectDetectionDatasetOverview(train_dash_ds, width=1500, height=900)\n",
    "overview_dashboard.show()\n",
    "```"
   ]
  },
  {
   "cell_type": "markdown",
   "metadata": {},
   "source": [
    "The output will look like this:\n",
    "\n",
    "An overview of some descriptive statistics for the dataset, the images and the classes.\n",
    "<div style=\"text-align:center\"><img src=\"imgs/dataset_overview_0.png\" /></div>\n",
    "\n",
    "Some more indepth information about the classes, how they mix (how often they appear at the same time in an image), distribution of annotations per image and a 2D histogram that can be customized. \n",
    "<div style=\"text-align:center\"><img src=\"imgs/dataset_overview_1.png\" /></div>\n",
    "\n",
    "A gallery with sorting functionality of have a direct look at the images.\n",
    "<div style=\"text-align:center\"><img src=\"imgs/dataset_overview_2.png\" /></div>\n",
    "\n",
    "Tabular representation of all annotations.\n",
    "<div style=\"text-align:center\"><img src=\"imgs/dataset_overview_3.png\" /></div>"
   ]
  },
  {
   "cell_type": "markdown",
   "metadata": {},
   "source": [
    "# Contributing\n",
    "\n",
    "If you want to contribute add the following lines to your `pre-commit` file to ensure the notebook cell output don't get pushed into the repo.\n",
    "\n",
    "```bash\n",
    "# ensure the oupt of the notebooks is empty\n",
    "jupyter nbconvert --ClearOutputPreprocessor.enabled=True --inplace nbs/*.ipynb\n",
    "jupyter nbconvert --ClearOutputPreprocessor.enabled=True --inplace examples/*.ipynb\n",
    "jupyter nbconvert --ClearOutputPreprocessor.enabled=True --inplace test_data_generation/*.ipynb\n",
    "nbdev_build_lib\n",
    "git add .\n",
    "```"
   ]
  },
  {
   "cell_type": "code",
   "execution_count": null,
   "metadata": {},
   "outputs": [],
   "source": []
  },
  {
   "cell_type": "code",
   "execution_count": null,
   "metadata": {},
   "outputs": [],
   "source": []
  }
 ],
 "metadata": {
  "kernelspec": {
   "display_name": "Python 3",
   "language": "python",
   "name": "python3"
  }
 },
 "nbformat": 4,
 "nbformat_minor": 4
}
