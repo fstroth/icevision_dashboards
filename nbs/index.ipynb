{
 "cells": [
  {
   "cell_type": "markdown",
   "metadata": {},
   "source": [
    "# IceVisionDashboard"
   ]
  },
  {
   "cell_type": "markdown",
   "metadata": {},
   "source": [
    "[![Binder](https://mybinder.org/badge_logo.svg)](https://mybinder.org/v2/gh/fstroth/icevision_dashboards/HEAD)\n",
    "\n",
    "\n",
    "IceVisionDashboard is an extension to the [IceVision](https://github.com/airctic/icevision) object detection framework. This extension provides different `dashboards` to investigate datasets, create new datasets and analyse the results of a training.\n",
    "\n",
    "The libary provides dashboards to inspect datasets, create new datasets, investigate the results of a training and much more."
   ]
  },
  {
   "cell_type": "markdown",
   "metadata": {},
   "source": [
    "## Examples\n",
    "\n",
    "```python\n",
    "from icevision_dashboards.data import BboxRecordDataset\n",
    "from icevision_dashboards.dashboards import ObjectDetectionDatasetOverview\n",
    "# load some data from the icedata\n",
    "data_dir = icedata.fridge.load_data()\n",
    "class_map = icedata.fridge.class_map()\n",
    "parser = icedata.fridge.parser(data_dir)\n",
    "train_records, valid_records = test_parser.parse()\n",
    "# create a dataset that can be consumed by the dashboards\n",
    "train_dash_ds = BboxRecordDataset(train_records, class_map)\n",
    "# create a new dashboard instance and display it with the .show() function\n",
    "overview_dashboard = ObjectDetectionDatasetOverview(train_dash_ds, width=1500, height=900)\n",
    "overview_dashboard.show()\n",
    "```\n",
    "\n",
    "The output will look like this:\n",
    "\n",
    "<div style=\"text-align:center\"><img src=\"imgs/dataset_overview_0.png\" /></div>\n",
    "<div style=\"text-align:center\"><img src=\"imgs/dataset_overview_1.png\" /></div>\n",
    "<div style=\"text-align:center\"><img src=\"imgs/dataset_overview_2.png\" /></div>\n",
    "<div style=\"text-align:center\"><img src=\"imgs/dataset_overview_3.png\" /></div>"
   ]
  },
  {
   "cell_type": "markdown",
   "metadata": {},
   "source": [
    "# Contributing\n",
    "\n",
    "If you want to contribute add the following lines to your `pre-commit` file to ensure the notebook cell output don't get pushed into the repo.\n",
    "\n",
    "```bash\n",
    "# ensure the oupt of the notebooks is empty\n",
    "jupyter nbconvert --ClearOutputPreprocessor.enabled=True --inplace nbs/*.ipynb\n",
    "jupyter nbconvert --ClearOutputPreprocessor.enabled=True --inplace examples/*.ipynb\n",
    "jupyter nbconvert --ClearOutputPreprocessor.enabled=True --inplace test_data_generation/*.ipynb\n",
    "nbdev_build_lib\n",
    "git add .\n",
    "```"
   ]
  },
  {
   "cell_type": "code",
   "execution_count": null,
   "metadata": {},
   "outputs": [],
   "source": []
  },
  {
   "cell_type": "code",
   "execution_count": null,
   "metadata": {},
   "outputs": [],
   "source": []
  }
 ],
 "metadata": {
  "kernelspec": {
   "display_name": "Python 3",
   "language": "python",
   "name": "python3"
  }
 },
 "nbformat": 4,
 "nbformat_minor": 4
}
