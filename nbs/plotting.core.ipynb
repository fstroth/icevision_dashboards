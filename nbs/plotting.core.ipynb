{
 "cells": [
  {
   "cell_type": "code",
   "execution_count": null,
   "metadata": {},
   "outputs": [],
   "source": [
    "# default_exp plotting.core"
   ]
  },
  {
   "cell_type": "markdown",
   "metadata": {},
   "source": [
    "# plotting.core\n",
    "> Supplies plotting functionalities for dashboards"
   ]
  },
  {
   "cell_type": "code",
   "execution_count": null,
   "metadata": {},
   "outputs": [],
   "source": [
    "#export\n",
    "import datetime\n",
    "from typing import List, Union, Iterable, Tuple, Optional\n",
    "\n",
    "import numpy as np\n",
    "import pandas as pd\n",
    "from pandas.api.types import is_numeric_dtype\n",
    "import bokeh\n",
    "from bokeh.plotting import figure, show\n",
    "from bokeh.models import ColumnDataSource, TableColumn, DataTable, LinearColorMapper, ColorBar\n",
    "from bokeh.models.widgets import HTMLTemplateFormatter\n",
    "from bokeh.palettes import Viridis, viridis, Category20\n",
    "from bokeh.transform import factor_cmap\n",
    "from bokeh.layouts import gridplot\n",
    "from bokeh import events\n",
    "import panel as pn\n",
    "import panel.widgets as pnw\n",
    "\n",
    "from icevision_dashboards.plotting.utils import *"
   ]
  },
  {
   "cell_type": "code",
   "execution_count": null,
   "metadata": {},
   "outputs": [],
   "source": [
    "#hide\n",
    "pn.extension()"
   ]
  },
  {
   "cell_type": "code",
   "execution_count": null,
   "metadata": {},
   "outputs": [],
   "source": [
    "#hide\n",
    "import pytest"
   ]
  },
  {
   "cell_type": "code",
   "execution_count": null,
   "metadata": {},
   "outputs": [],
   "source": [
    "#export\n",
    "def barplot(counts: Union[np.ndarray, List[np.ndarray]], values: Union[np.ndarray, List[np.ndarray]], bar_type: Union[\"horizontal\", \"vertical\"] = \"horizontal\", linked_axis=True, width: int = 500, height: int = 500) -> bokeh.plotting.figure::\n",
    "    \"\"\"Creates a figure with a barplot, were the counts is the bar height and values are the labels for the bars.\n",
    "    Input can be a numpy array or a list of numpy array to create multiple plots. \n",
    "    \"\"\"\n",
    "    if isinstance(counts, list) and isinstance(values, list):\n",
    "        plot_list = []\n",
    "        for counts_element, values_element in zip(counts, values):\n",
    "            values_element = [str(entry) for entry in values_element]\n",
    "            if bar_type == \"horizontal\":\n",
    "                if len(plot_list) == 0:\n",
    "                    p = figure(width=width, height=height, y_range=values_element)\n",
    "                    p.hbar(y=values_element, left=0, right=counts_element, height=0.9)\n",
    "                else:\n",
    "                    if linked_axis:\n",
    "                        p = figure(width=width, height=height, y_range=plot_list[0].y_range, x_range=plot_list[0].x_range)\n",
    "                    else:\n",
    "                        p = figure(width=width, height=height, y_range=values_element)\n",
    "                    p.hbar(y=values_element, left=0, right=counts_element, height=0.9)\n",
    "            elif bar_type == \"vertical\":\n",
    "                if len(plot_list) == 0:\n",
    "                    p = figure(width=width, height=height, x_range=values_element)\n",
    "                    p.vbar(x=values_element, bottom=0, top=counts_element, width=0.9)\n",
    "                else:\n",
    "                    if linked_axis:\n",
    "                        p = figure(width=width, height=height, x_range=plot_list[0].x_range, y_range=plot_list[0].y_range)\n",
    "                    else:\n",
    "                        p = figure(width=width, height=height, x_range=values_element)\n",
    "                    p.vbar(x=values_element, bottom=0, top=counts_element, width=0.9)\n",
    "            else:\n",
    "                raise ValueError(\"hist_type has to be of 'horizontal' or 'vertical'\")\n",
    "            plot_list.append(p)\n",
    "        return plot_list\n",
    "    elif isinstance(counts, np.ndarray) and isinstance(values, np.ndarray):\n",
    "        values = [str(entry) for entry in values]\n",
    "        if bar_type == \"horizontal\":\n",
    "            p = figure(width=width, height=height, y_range=values)\n",
    "            p.hbar(y=values, left=0, right=counts, height=0.9)\n",
    "        elif bar_type == \"vertical\":\n",
    "            p = figure(width=width, height=height, x_range=values)\n",
    "            p.vbar(x=values, bottom=0, top=counts, width=0.9)\n",
    "        else:\n",
    "            raise ValueError(\"hist_type has to be of 'horizontal' or 'vertical'\")\n",
    "        return p\n",
    "    else:\n",
    "        raise TypeError(\"counts and values need to be of the same type (list or np.ndarray)\")"
   ]
  },
  {
   "cell_type": "code",
   "execution_count": null,
   "metadata": {},
   "outputs": [],
   "source": [
    "# test draw_histogram without a classmap\n",
    "p = barplot(np.array([10, 20]), np.array([\"labelA\", \"labelB\"]))\n",
    "pn.Row(p)"
   ]
  },
  {
   "cell_type": "code",
   "execution_count": null,
   "metadata": {},
   "outputs": [],
   "source": [
    "# test draw_histogram without a classmap\n",
    "hist = [[1, 10], [2, 20]]\n",
    "p = barplot([np.array([10, 20]), np.array([10, 20]), np.array([10, 20])], [np.array([1, 2]), np.array([1, 2]), np.array([1, 2])], bar_type=\"vertical\")\n",
    "pn.Row(*p)"
   ]
  },
  {
   "cell_type": "code",
   "execution_count": null,
   "metadata": {},
   "outputs": [],
   "source": [
    "# test draw_histogram without a classmap\n",
    "hist = [[1, 10], [2, 20]]\n",
    "p = barplot([np.array([10, 20]), np.array([10, 20]), np.array([10, 20])], [np.array([1, 2]), np.array([1, 2]), np.array([1, 2])], bar_type=\"horizontal\", linked_axis=False)\n",
    "pn.Row(*p)"
   ]
  },
  {
   "cell_type": "code",
   "execution_count": null,
   "metadata": {},
   "outputs": [],
   "source": [
    "# test draw_histogram raises ValueError for wrong bar_type\n",
    "with pytest.raises(ValueError):\n",
    "    hist = [[1, 10], [2, 20]]\n",
    "    p = barplot([np.array([10, 20]), np.array([10, 20]), np.array([10, 20])], [np.array([1, 2]), np.array([1, 2]), np.array([1, 2])], bar_type=\"false\", linked_axis=False)"
   ]
  },
  {
   "cell_type": "code",
   "execution_count": null,
   "metadata": {},
   "outputs": [],
   "source": [
    "# test draw_histogram raises TypeError for wrong hist data\n",
    "with pytest.raises(TypeError):\n",
    "    hist = [[1, 10], [2, 20]]\n",
    "    p = barplot(None, bar_type=\"false\", linked_axis=False)"
   ]
  },
  {
   "cell_type": "code",
   "execution_count": null,
   "metadata": {},
   "outputs": [],
   "source": [
    "#export\n",
    "def histogram(values: Union[np.ndarray, List[np.ndarray]], bins: int = 10, range: Tuple[int] = None, density: bool = False, remove_tools: bool = False, linked_axis=True, title=\"\", x_label=\"\", y_label=\"\", orientation=\"horizontal\", width: int = 500, height: int = 500) -> bokeh.plotting.figure:\n",
    "    \"Creates a histogram.\"\n",
    "    if isinstance(values, np.ndarray):\n",
    "        if orientation == \"vertical\":\n",
    "            x_label, y_label = y_label, x_label\n",
    "        p = figure(width=width, height=height, title=title, x_axis_label=x_label, y_axis_label=y_label)\n",
    "        counts, edges = np.histogram(values, bins=bins, range=range, density=density)\n",
    "        if orientation == \"horizontal\":\n",
    "            p.quad(top=counts, bottom=0, left=edges[:-1], right=edges[1:])\n",
    "        elif orientation == \"vertical\":\n",
    "            p.quad(top=edges[1:], bottom=edges[:-1], left=0, right=counts)\n",
    "        if remove_tools:\n",
    "            p.toolbar.logo = None\n",
    "            p.toolbar_location = None\n",
    "        return p\n",
    "    elif isinstance(values, list):\n",
    "        if not isinstance(title, list):\n",
    "            title = [title]*len(values)\n",
    "        if not isinstance(x_label, list):\n",
    "            x_labels = [x_label]*len(values)\n",
    "        if not isinstance(y_label, list):\n",
    "            y_labels = [y_label]*len(values)\n",
    "        if orientation == \"vertical\":\n",
    "            x_labels, y_labels = y_labels, x_labels\n",
    "        plot_list = []\n",
    "        for values_element, plot_title, x_label, y_label in zip(values, title, x_labels, y_labels):\n",
    "            if len(plot_list) == 0 or linked_axis == False:\n",
    "                p = figure(width=width, height=height, title=plot_title, x_axis_label=x_label, y_axis_label=y_label)\n",
    "            else:\n",
    "                p = figure(width=width, height=height, x_range=plot_list[0].x_range, y_range=plot_list[0].y_range, title=plot_title, x_axis_label=x_label, y_axis_label=y_label)\n",
    "            counts, edges = np.histogram(values_element, bins=bins, range=range, density=density)\n",
    "            if orientation == \"horizontal\":\n",
    "                p.quad(top=counts, bottom=0, left=edges[:-1], right=edges[1:])\n",
    "            elif orientation == \"vertical\":\n",
    "                p.quad(top=edges[1:], bottom=edges[:-1], left=0, right=counts)\n",
    "            if remove_tools:\n",
    "                p.toolbar.logo = None\n",
    "                p.toolbar_location = None\n",
    "            plot_list.append(p)\n",
    "        return plot_list\n",
    "    else:\n",
    "        raise TypeError(\"values has to be of type list or np.ndarray\")"
   ]
  },
  {
   "cell_type": "code",
   "execution_count": null,
   "metadata": {},
   "outputs": [],
   "source": [
    "pn.Row(histogram(np.array([1,1,1,2,2,2,2,3,3,4]), bins=4, range=(1,4), density=True, title=\"test\", orientation=\"vertical\", x_label=\"test\", y_label=\"y_label\"))"
   ]
  },
  {
   "cell_type": "code",
   "execution_count": null,
   "metadata": {},
   "outputs": [],
   "source": [
    "pn.Row(histogram(np.array([1,1,1,2,2,2,2,3,3,4]), bins=4, range=(1,4), density=True, title=\"test\", orientation=\"horizontal\", remove_tools=True))"
   ]
  },
  {
   "cell_type": "code",
   "execution_count": null,
   "metadata": {},
   "outputs": [],
   "source": [
    "pn.Row(*histogram([np.array([1,1,1,1,2,2,2,3,3,4]), np.array([1,2,2,2,2,2,2,3,3,4]), np.array([1,1,5,5,5,5,2,3,3,4])], title=[\"a\", \"b\", \"c\"], bins=4, range=(1,4), density=True))"
   ]
  },
  {
   "cell_type": "code",
   "execution_count": null,
   "metadata": {},
   "outputs": [],
   "source": [
    "pn.Row(*histogram([np.array([1,1,1,1,2,2,2,3,3,4]), np.array([1,2,2,2,2,2,2,3,3,4]), np.array([1,1,5,5,5,5,2,3,3,4])], title=[\"a\", \"b\", \"c\"], bins=4, range=(1,4), density=True, orientation=\"vertical\"))"
   ]
  },
  {
   "cell_type": "code",
   "execution_count": null,
   "metadata": {},
   "outputs": [],
   "source": [
    "# test draw_histogram raises TypeError for wrong hist data\n",
    "with pytest.raises(TypeError):\n",
    "    histogram(None)"
   ]
  },
  {
   "cell_type": "code",
   "execution_count": null,
   "metadata": {},
   "outputs": [],
   "source": [
    "#export\n",
    "def heatmap(data: Union[pd.DataFrame, List[pd.DataFrame]], col_x: str, col_y: str, col_values: str, color_mapper: Optional[bokeh.models.ColorMapper] = None, normalize: str = \"None\", link_plots: bool = True, height: int = 500, width: int = 500) -> bokeh.plotting.figure:\n",
    "    def _heatmap(df: pd.DataFrame, col_x: str, col_y: str, col_values: str, color_mapper: Optional[bokeh.models.ColorMapper] = None, normalize: str = \"None\", height: int = 500, width: int = 500, x_range=None, y_range=None):\n",
    "        df = df.copy()\n",
    "    \n",
    "        # normalize values\n",
    "        if normalize == \"Column\":\n",
    "            for name in df[col_x].unique():\n",
    "                df.loc[(df[col_x] == name, col_values)] /= df[df[col_x] == name][col_values].sum()\n",
    "        elif normalize == \"Row\":\n",
    "            for name in df[col_y].unique():\n",
    "                df.loc[(df[col_y] == name, col_values)] /= df[df[col_y] == name][col_values].sum()\n",
    "\n",
    "        # ensure the x and y column are in a categorical format\n",
    "        if df[col_x].dtype != str or df[col_y].dtype != str:\n",
    "            df = df[[col_x, col_y, col_values]].copy()\n",
    "            df[col_x] = df[col_x].astype(str)\n",
    "            df[col_y] = df[col_y].astype(str)\n",
    "        \n",
    "        if x_range is not None and y_range is not None:\n",
    "            p = figure(x_range=x_range, y_range=y_range, x_axis_location=\"above\", tools=\"hover\", toolbar_location=None, tooltips=[('', '@'+col_values)], width=width, height=height)\n",
    "        elif x_range is not None and y_range is None:\n",
    "            p = figure(x_range=x_range, y_range=sorted(df[col_y].unique()), x_axis_location=\"above\", tools=\"hover\", toolbar_location=None, tooltips=[('', '@'+col_values)], width=width, height=height)\n",
    "        elif x_range is None and y_range is not None:\n",
    "            p = figure(x_range=sorted(df[col_x].unique())[::-1], y_range=y_range, x_axis_location=\"above\", tools=\"hover\", toolbar_location=None, tooltips=[('', '@'+col_values)], width=width, height=height)\n",
    "        else:\n",
    "            p = figure(x_range=sorted(df[col_x].unique())[::-1], y_range=sorted(df[col_y].unique()), x_axis_location=\"above\", tools=\"hover\", toolbar_location=None, tooltips=[('', '@'+col_values)], width=width, height=height)\n",
    "\n",
    "        p.grid.grid_line_color = None\n",
    "        p.axis.axis_line_color = None\n",
    "        p.axis.major_tick_line_color = None\n",
    "        p.axis.major_label_standoff = 0\n",
    "\n",
    "        p.rect(\n",
    "            x=col_x, y=col_y, width=1, height=1, source=df,\n",
    "            fill_color={'field': col_values, 'transform': color_mapper},\n",
    "            line_color=None\n",
    "        )\n",
    "        return p\n",
    "    \n",
    "    def _create_colorbar_and_color_mapper(min_val, max_val, color_mapper):\n",
    "        # create color bar\n",
    "        if color_mapper is None:\n",
    "            color_mapper = LinearColorMapper(palette=Viridis[256], low=min_val, high=max_val)\n",
    "\n",
    "        color_bar = ColorBar(\n",
    "            color_mapper=color_mapper, major_label_text_font_size=\"7px\",\n",
    "            label_standoff=6, border_line_color=None, location=(0, 0)\n",
    "        )\n",
    "        return color_bar, color_mapper\n",
    "\n",
    "    # handel multiple inputs here\n",
    "    if isinstance(data, list):\n",
    "        plot_list = []\n",
    "        if link_plots:\n",
    "            min_value = min(df[col_values].min() for df in data)\n",
    "            max_value = max(df[col_values].max() for df in data)\n",
    "            color_bar, color_mapper = _create_colorbar_and_color_mapper(min_value, max_value, color_mapper)\n",
    "        for df in data:\n",
    "            if not link_plots:\n",
    "                color_bar, color_mapper = _create_colorbar_and_color_mapper(df[col_values].min(), df[col_values].max(), None)\n",
    "            temp_heatmap = _heatmap(df, col_x, col_y, col_values, color_mapper, normalize, height, width)\n",
    "            if not link_plots:\n",
    "                temp_heatmap.add_layout(color_bar, 'right')\n",
    "            plot_list.append(temp_heatmap)\n",
    "        if link_plots:\n",
    "            c_bar_figure = figure(width=65, height=height, toolbar_location=None, min_border=0, outline_line_color=None)\n",
    "            c_bar_figure.add_layout(color_bar, 'right')\n",
    "            plot_list.append(c_bar_figure)\n",
    "        return plot_list\n",
    "    elif isinstance(data, pd.DataFrame):\n",
    "        color_bar, color_mapper = _create_colorbar_and_color_mapper(data[col_values].min(), data[col_values].max(), color_mapper)\n",
    "        p = _heatmap(data, col_x, col_y, col_values, color_mapper, normalize, height, width)\n",
    "        p.add_layout(color_bar, 'right')\n",
    "        return p\n",
    "    else:\n",
    "        raise TypeError(\"Data has to be of type list or pd.Dataframe\")"
   ]
  },
  {
   "cell_type": "code",
   "execution_count": null,
   "metadata": {},
   "outputs": [],
   "source": [
    "test_df = pd.DataFrame({\"filepath\": [\"fileA\", \"fileA\", \"fileA\", \"fileB\",  \"fileB\", \"fileC\", \"fileC\", \"fileC\"], \"label\": [1, 2, 1, 2, 3, 3, 1, 2]})\n",
    "test_mixing_matrix_df = calculate_mixing_matrix(test_df, \"filepath\", \"label\")\n",
    "pn.Column(heatmap(test_mixing_matrix_df, \"row_name\", \"col_name\", \"values\", normalize=\"None\"))"
   ]
  },
  {
   "cell_type": "code",
   "execution_count": null,
   "metadata": {},
   "outputs": [],
   "source": [
    "test_df = pd.DataFrame({\"filepath\": [\"fileA\", \"fileA\", \"fileA\", \"fileB\",  \"fileB\", \"fileC\", \"fileC\", \"fileC\"], \"label\": [1, 2, 1, 2, 3, 3, 1, 2]})\n",
    "test_mixing_matrix_df = calculate_mixing_matrix(test_df, \"filepath\", \"label\")\n",
    "pn.Column(heatmap(test_mixing_matrix_df, \"row_name\", \"col_name\", \"values\", normalize=\"Column\"))"
   ]
  },
  {
   "cell_type": "code",
   "execution_count": null,
   "metadata": {},
   "outputs": [],
   "source": [
    "test_df = pd.DataFrame({\"filepath\": [\"fileA\", \"fileA\", \"fileA\", \"fileB\",  \"fileB\", \"fileC\", \"fileC\", \"fileC\"], \"label\": [1, 2, 1, 2, 3, 3, 1, 2]})\n",
    "test_mixing_matrix_df = calculate_mixing_matrix(test_df, \"filepath\", \"label\")\n",
    "test_mixing_matrix_df_high = test_mixing_matrix_df.copy()\n",
    "test_mixing_matrix_df_high[\"values\"] *= 5\n",
    "pn.Row(*heatmap([test_mixing_matrix_df, test_mixing_matrix_df_high, test_mixing_matrix_df], \"row_name\", \"col_name\", \"values\", normalize=\"Row\", link_plots=False))"
   ]
  },
  {
   "cell_type": "code",
   "execution_count": null,
   "metadata": {},
   "outputs": [],
   "source": [
    "test_df = pd.DataFrame({\"filepath\": [\"fileA\", \"fileA\", \"fileA\", \"fileB\",  \"fileB\", \"fileC\", \"fileC\", \"fileC\"], \"label\": [1, 2, 1, 2, 3, 3, 1, 2]})\n",
    "test_mixing_matrix_df = calculate_mixing_matrix(test_df, \"filepath\", \"label\")\n",
    "test_mixing_matrix_df_high = test_mixing_matrix_df.copy()\n",
    "test_mixing_matrix_df_high[\"values\"] *= 5\n",
    "pn.Row(*heatmap([test_mixing_matrix_df, test_mixing_matrix_df_high, test_mixing_matrix_df], \"row_name\", \"col_name\", \"values\", normalize=\"Row\", link_plots=True))"
   ]
  },
  {
   "cell_type": "code",
   "execution_count": null,
   "metadata": {},
   "outputs": [],
   "source": [
    "with pytest.raises(TypeError):\n",
    "    heatmap(None)"
   ]
  },
  {
   "cell_type": "code",
   "execution_count": null,
   "metadata": {},
   "outputs": [],
   "source": [
    "#export\n",
    "def time_arc_plot(start_dates: pd.core.series.Series, end_dates: Iterable[datetime.datetime], width: int = 500, height: int  = 300) -> bokeh.plotting.figure:\n",
    "    \"\"\"Creates a plot of arcs where each ark spans from a start date to an end date.\"\"\"\n",
    "    radius = (end_dates-start_dates)/2\n",
    "    x = start_dates + radius\n",
    "    p = figure(x_axis_label=\"Date\", x_axis_type='datetime', y_range=(0, radius.max()), x_range=(start_dates.min(), end_dates.max()), width=width, height=height, tools=\"\")\n",
    "    p.yaxis.major_tick_line_color = None\n",
    "    p.yaxis.minor_tick_line_color = None\n",
    "    p.yaxis.major_label_text_font_size = '0pt'\n",
    "    p.toolbar.logo = None\n",
    "    p.toolbar_location = None\n",
    "    p.arc(x=x, y=0, radius=radius, start_angle=0, end_angle=np.pi)\n",
    "    return p"
   ]
  },
  {
   "cell_type": "code",
   "execution_count": null,
   "metadata": {},
   "outputs": [],
   "source": [
    "start_date = datetime.date(2020, 1, 1)\n",
    "test_date_df = pd.DataFrame({\"creation_date\": [start_date]*10})\n",
    "test_date_df[\"modification_date\"] = test_date_df[\"creation_date\"] + pd.Series([datetime.timedelta(days=np.random.randint(1, 101)) for _ in range(test_date_df.shape[0])])\n",
    "test_date_df[\"creation_date\"] = pd.to_datetime(test_date_df[\"creation_date\"])\n",
    "test_date_df[\"modification_date\"] = pd.to_datetime(test_date_df[\"modification_date\"])\n",
    "pn.Row(time_arc_plot(test_date_df[\"creation_date\"], test_date_df[\"modification_date\"]))"
   ]
  },
  {
   "cell_type": "code",
   "execution_count": null,
   "metadata": {},
   "outputs": [],
   "source": [
    "#export\n",
    "def table_from_dataframe(data: Union[pd.DataFrame, List[pd.DataFrame]], columns: List[str] = None, width: int = 500, height: int = None, index_position: int = None, **kwargs) -> pn.widgets.tables.DataFrame:\n",
    "    if height is None:\n",
    "        upper_bound = data.shape[0] if isinstance(data, pd.DataFrame) else data[0].shape[0]\n",
    "        alternative_bound = data.shape[0] if isinstance(data, pd.DataFrame) else data[0].shape[0]\n",
    "        height = 25*6 if upper_bound > 5 else 25*(alternative_bound+1)\n",
    "\n",
    "    def _create_table(df, columns, width, height):\n",
    "        if columns is None:\n",
    "            columns = df.columns\n",
    "        selection = df[columns]\n",
    "        template = \"\"\"<span href=\"#\" data-toggle=\"tooltip\" title=\"<%= value %>\"><%= value %></span>\"\"\"\n",
    "        table = pnw.DataFrame(selection, formatters={key: HTMLTemplateFormatter(template=template) for key in selection.columns}, selection=[0], width=width, height=height, **kwargs)\n",
    "        return table\n",
    "        \n",
    "    if isinstance(data, pd.DataFrame):\n",
    "        return _create_table(data, columns, width, height)\n",
    "    elif isinstance(data, list):\n",
    "        table_list = [_create_table(df, columns, width, height) for df in data]\n",
    "        return table_list\n",
    "    else:\n",
    "        raise TypeError(\"data has to be of type list or pd.DataFrame\")"
   ]
  },
  {
   "cell_type": "code",
   "execution_count": null,
   "metadata": {},
   "outputs": [],
   "source": [
    "test_df = pd.DataFrame({\"dataset_name\": [\"test_name\"], \"num_images\": [50], \"num_annotation\": [75]})\n",
    "pn.Row(table_from_dataframe(test_df, width=1000))"
   ]
  },
  {
   "cell_type": "code",
   "execution_count": null,
   "metadata": {},
   "outputs": [],
   "source": [
    "test_df = pd.DataFrame({\"dataset_name\": [\"test_name\"], \"num_images\": [50], \"num_annotation\": [75]})\n",
    "pn.Column(*table_from_dataframe([test_df, test_df, test_df], width=1000))"
   ]
  },
  {
   "cell_type": "code",
   "execution_count": null,
   "metadata": {},
   "outputs": [],
   "source": [
    "#export\n",
    "def stacked_hist(data: Union[list, pd.DataFrame], x_col: str, stack_col: str, x_label: str = \"\", link_plots=True, width: int = 500, height: int = 500):\n",
    "    \"\"\"If normalize is True the biggest col is set to 1 and all other cols are scaled accordingly.\"\"\"\n",
    "    def _stacked_hist(dataframe, x_col, stack_col, x_label, width, height, x_range=None, y_range=None):\n",
    "        data = {\"x\": sorted(dataframe[x_col].unique().astype(str))}\n",
    "        for stack_value in dataframe[stack_col].unique():\n",
    "            x_values = dataframe.groupby(stack_col).get_group(stack_value).groupby(x_col).count()\n",
    "            data[str(stack_value)] = [float(x_values[x_values.index == i][stack_col].values) if i in x_values.index else 0 for i in sorted(dataframe[x_col].unique())]\n",
    "        colors =  Category20[dataframe[stack_col].nunique()] if (2 < dataframe[stack_col].nunique() < 21) else viridis(dataframe[stack_col].nunique())\n",
    "        legend = [stack_col+\": \"+i for i in dataframe[stack_col].unique().astype(str).tolist()]\n",
    "        \n",
    "        if x_range is None and y_range is None:\n",
    "            p = figure(x_range=sorted(dataframe[x_col].unique().astype(str)), height=height, width=width, toolbar_location=None, tools=\"\", tooltips=\"$name: @$name\")\n",
    "        elif x_range is None and y_range is not None:\n",
    "            p = figure(x_range=sorted(dataframe[x_col].unique().astype(str)), y_range=y_range, height=height, width=width, toolbar_location=None, tools=\"\", tooltips=\"$name: @$name\")\n",
    "        elif x_range is not None and y_range is None:\n",
    "            p = figure(x_range=x_range, height=height, width=width, toolbar_location=None, tools=\"\", tooltips=\"$name: @$name\")\n",
    "        else:\n",
    "            p = figure(x_range=x_range, y_range=y_range, height=height, width=width, toolbar_location=None, tools=\"\", tooltips=\"$name: @$name\")\n",
    "        p.vbar_stack(sorted(dataframe[stack_col].unique().astype(str)), x=\"x\", source=pd.DataFrame(data), color=colors, width=0.8, legend_label=legend)\n",
    "        p.xaxis.axis_label = x_label\n",
    "        p.yaxis.axis_label = \"Counts\"\n",
    "        p.js_on_event(events.DoubleTap, toggle_legend_js(p))\n",
    "        p.legend.click_policy=\"hide\"\n",
    "        return p\n",
    "    \n",
    "    if isinstance(data, pd.DataFrame):\n",
    "        return _stacked_hist(data, x_col, stack_col, x_label, width, height)\n",
    "    elif isinstance(data, list):\n",
    "        plot_list = []\n",
    "        for df in data:\n",
    "            if link_plots and len(plot_list) > 0:\n",
    "                plot_list.append(_stacked_hist(df, x_col, stack_col, x_label, width, height, plot_list[0].x_range, plot_list[0].y_range))\n",
    "            else:\n",
    "                plot_list.append(_stacked_hist(df, x_col, stack_col, x_label, width, height))\n",
    "        return plot_list\n",
    "    else:\n",
    "        raise TypeError(\"data has to be of type list or pd.Dataframe\")"
   ]
  },
  {
   "cell_type": "code",
   "execution_count": null,
   "metadata": {},
   "outputs": [],
   "source": [
    "test_data = pd.DataFrame({\"class\": [\"a\",\"b\",\"c\",\"a\",\"a\",\"b\",\"c\",\"a\",\"c\",\"b\"], \"obj_on_img\": [1,1,1,2,2,2,3,3,3,3]})\n",
    "pn.Row(stacked_hist(test_data, \"obj_on_img\", \"class\", x_label=\"Obj. per Img\"))"
   ]
  },
  {
   "cell_type": "code",
   "execution_count": null,
   "metadata": {},
   "outputs": [],
   "source": [
    "test_data_1 = pd.DataFrame({\"class\": [\"a\",\"b\",\"c\",\"a\",\"a\",\"b\",\"c\",\"a\",\"c\",\"b\"], \"obj_on_img\": [1,1,1,2,2,2,3,3,3,3]})\n",
    "test_data_2 = pd.DataFrame({\"class\": [\"a\",\"b\",\"c\",\"a\",\"a\",\"b\",\"c\",\"a\",\"c\",\"b\"], \"obj_on_img\": [2,3,3,3,3,3,3,3,3,3]})\n",
    "pn.Row(*stacked_hist([test_data_1, test_data_2], \"obj_on_img\", \"class\", x_label=\"Obj. per Img\", link_plots=False))"
   ]
  },
  {
   "cell_type": "code",
   "execution_count": null,
   "metadata": {},
   "outputs": [],
   "source": [
    "#export\n",
    "def categorical_2d_histogram(data: pd.DataFrame, category_col: str, hist_col: str, bins=10, range=None, normalize=False, precision=2, color_mapper=None, hist_col_is_categorical=False, width=500, height=500):\n",
    "    \"\"\"Creates a 2d histogram with the y axis being a category and the x axis the value each category is histogramed over.\"\"\"\n",
    "    def _create_colorbar_and_color_mapper(min_val, max_val, color_mapper):\n",
    "        # create color bar\n",
    "        if color_mapper is None:\n",
    "            color_mapper = LinearColorMapper(palette=Viridis[256], low=min_val, high=max_val)\n",
    "\n",
    "        color_bar = ColorBar(\n",
    "            color_mapper=color_mapper, major_label_text_font_size=\"7px\",\n",
    "            label_standoff=6, border_line_color=None, location=(0, 0)\n",
    "        )\n",
    "        return color_bar, color_mapper\n",
    "    \n",
    "    def _categorical_2d_histogram(dataframe, category_col, hist_col, bins, range, normalize, precision, color_mapper, hist_col_is_categorical, width, height):\n",
    "        data = {\"x\": np.array([]), \"y\": [], \"z\": np.array([])}\n",
    "        hist_min = dataframe[hist_col].min() if range is None else range[0]\n",
    "        hist_max = dataframe[hist_col].max() if range is None else range[1]\n",
    "        if hist_max < hist_min:\n",
    "            hist_max = hist_min*1.1\n",
    "        for group in dataframe.groupby(category_col):\n",
    "            if hist_col_is_categorical:\n",
    "                bins = dataframe[hist_col].nunique()\n",
    "                unique_values = dataframe[hist_col].unique()\n",
    "                x, z = np.unique(group[1][hist_col], return_counts=True)\n",
    "                data[\"y\"] += [str(group[0])]*bins\n",
    "                z = np.array([float(z[x == i]) if i in x else 0 for i in unique_values])\n",
    "                if normalize:\n",
    "                    z = z/z.sum()\n",
    "                data[\"x\"] = np.append(data[\"x\"], unique_values.astype(str))\n",
    "                data[\"z\"] = np.append(data[\"z\"],z)\n",
    "            else:\n",
    "                z,x = np.histogram(group[1][hist_col], bins=bins, range=(hist_min, hist_max))\n",
    "                if normalize:\n",
    "                    z = z/z.sum()\n",
    "                data[\"y\"] += [str(group[0])]*bins\n",
    "                data[\"x\"] = np.append(data[\"x\"],x[:-1].round(precision).astype(str))\n",
    "                data[\"z\"] = np.append(data[\"z\"],z)\n",
    "        df = pd.DataFrame(data)\n",
    "        \n",
    "        color_bar, color_mapper = _create_colorbar_and_color_mapper(data[\"z\"].min(), data[\"z\"].max(), color_mapper)\n",
    "        \n",
    "        # create the 2d histogram\n",
    "        p = figure(\n",
    "            x_range=sorted(df[\"x\"].unique().astype(str)), y_range=sorted(df[\"y\"].unique().astype(str)), \n",
    "            x_axis_location=\"above\", tools=\"hover\", toolbar_location=None, tooltips=[('', '@z')],\n",
    "            width=width, height=height, x_axis_label=hist_col, y_axis_label=category_col\n",
    "        )\n",
    "        p.grid.grid_line_color = None\n",
    "        p.axis.axis_line_color = None\n",
    "        p.axis.major_tick_line_color = None\n",
    "        p.axis.major_label_standoff = 0\n",
    "\n",
    "        p.rect(\n",
    "            x=\"x\", y=\"y\", width=1, height=1, source=df,\n",
    "            fill_color={'field': \"z\", 'transform': color_mapper},\n",
    "            line_color=None\n",
    "        )\n",
    "        \n",
    "        p.add_layout(color_bar, 'right')\n",
    "        \n",
    "        return p\n",
    "    \n",
    "    if isinstance(data, pd.DataFrame):\n",
    "        return _categorical_2d_histogram(data, category_col, hist_col, bins, range, normalize, precision, color_mapper, hist_col_is_categorical, width, height)\n",
    "    elif isinstance(data, list):\n",
    "        plot_list = [_categorical_2d_histogram(df, category_col, hist_col, bins, range, normalize, precision, color_mapper, hist_col_is_categorical, width, height) for df in data]\n",
    "        return plot_list\n",
    "    else:\n",
    "        raise TypeError(\"data has to be of type \")"
   ]
  },
  {
   "cell_type": "markdown",
   "metadata": {},
   "source": [
    "Creates a 2d histogram where each row represents a category and each category is histogramed over the x-axis. There are two options for the x-axis, it can be set to categroical (`hist_col_is_categorical = True`) in this case the values of the `hist_col` will not be histogramed but each unique value will be a seperate bin."
   ]
  },
  {
   "cell_type": "code",
   "execution_count": null,
   "metadata": {},
   "outputs": [],
   "source": [
    "pn.Row(categorical_2d_histogram(test_data, \"obj_on_img\", \"obj_on_img\", hist_col_is_categorical=False))"
   ]
  },
  {
   "cell_type": "code",
   "execution_count": null,
   "metadata": {},
   "outputs": [],
   "source": [
    "pn.Row(*categorical_2d_histogram([test_data, test_data, test_data], \"obj_on_img\", \"obj_on_img\", hist_col_is_categorical=True))"
   ]
  },
  {
   "cell_type": "code",
   "execution_count": null,
   "metadata": {},
   "outputs": [],
   "source": [
    "#export\n",
    "def categorical_2d_histogram_with_gui(data: pd.DataFrame, category_cols=None, hist_cols=None, width=500, height=500):\n",
    "    \"\"\"Creates a categorical_2d_histogram for a dataframe, where each option (except width, height and color_mapper) of the categorical_2d_histogram can be set with gui elements.\n",
    "    If the input is a list all dataframes need to have the same cols as the first dataframe in the list\"\"\"\n",
    "    if category_cols is None and isinstance(data, pd.DataFrame):\n",
    "        category_cols = data.columns.tolist()\n",
    "    elif category_cols is None and isinstance(data, list):\n",
    "        category_cols = data[0].columns.tolist()\n",
    "    if hist_cols is None and isinstance(data, pd.DataFrame):\n",
    "        hist_cols = [col_name for col_name in data.columns if is_numeric_dtype(data[col_name])]\n",
    "    elif hist_cols is None and isinstance(data, list):\n",
    "        hist_cols = [col_name for col_name in data[0].columns if is_numeric_dtype(data[0][col_name])]\n",
    "    x_select = pnw.Select(name=\"X-Axis\", options=hist_cols)\n",
    "    y_select = pnw.Select(name=\"Y-Axis\", options=category_cols)\n",
    "    \n",
    "    axis_selector = pn.Row(x_select, y_select, width=width)\n",
    "    \n",
    "    x_is_categorical = pnw.Checkbox(name=\"X is categorical\", value=False)\n",
    "    x_bins = pnw.IntInput(name=\"Bins\", start=1, end=500, value=10, disabled=False)\n",
    "    if isinstance(data, pd.DataFrame):\n",
    "        x_range_start=data[x_select.value].min() \n",
    "        x_range_end=data[x_select.value].max()\n",
    "        x_range_end=x_range_end if x_range_end > x_range_start else x_range_end*1.1\n",
    "        x_range_step=(x_range_end - x_range_start) / 50\n",
    "    elif isinstance(data, list):\n",
    "        x_range_start=min(df[x_select.value].min() for df in data) \n",
    "        x_range_end=max(df[x_select.value].max() for df in data)\n",
    "        x_range_end=x_range_end if x_range_end > x_range_start else x_range_end*1.1\n",
    "        x_range_step=(x_range_end - x_range_start) / 50\n",
    "    x_range = pnw.RangeSlider(name=\"X-Axis Range\", start=x_range_start, end=x_range_end, step=x_range_step, disabled=False)\n",
    "    \n",
    "    x_axis_configuration = pn.Row(x_range, x_bins, width=width)\n",
    "    \n",
    "    normalize_rows = pnw.Checkbox(name=\"Normalize rows\", value=False)\n",
    "    x_precision = pnw.IntInput(name=\"Precision\", start=0, end=10, value=2, disabled=False)\n",
    "    \n",
    "    additional_parameters = pn.Row(x_is_categorical, normalize_rows, x_precision, width=width)\n",
    "    \n",
    "    config_gui = pn.Column(axis_selector, additional_parameters, x_axis_configuration, align=\"center\")\n",
    "    \n",
    "    @pn.depends(y_select.param.value, x_select.param.value, x_bins.param.value_throttled, x_range.param.value_throttled, x_is_categorical.param.value, normalize_rows.param.value, x_precision.param.value)\n",
    "    def _plot(category_col, hist_col, bins, range, x_is_categorical, normalize_rows, precision):\n",
    "        if x_is_categorical:\n",
    "            x_range.disabled = True\n",
    "            x_precision.disabled = True\n",
    "            x_bins.disabled = True\n",
    "        else:\n",
    "            x_range.disabled = False\n",
    "            x_precision.disabled = False\n",
    "            x_bins.disabled = False\n",
    "        \n",
    "        if isinstance(data, pd.DataFrame):\n",
    "            if data[hist_col].min() != x_range.start or data[hist_col].max() != x_range.end:\n",
    "                x_range.start = data[hist_col].min()\n",
    "                x_range.end = data[hist_col].max() if data[hist_col].max() > x_range.start else data[hist_col].max()*1.1\n",
    "                x_range.value = (x_range.start, x_range.end)\n",
    "                x_range.step = (x_range.end-x_range.start)/50\n",
    "        elif isinstance(data, list):\n",
    "            if min(df[hist_col].min() for df in data) != x_range.start or max(df[hist_col].max() for df in data) != x_range.end:\n",
    "                x_range.start = min(df[hist_col].min() for df in data)\n",
    "                x_range.end = max(df[hist_col].max() for df in data) if max(df[hist_col].max() for df in data) > x_range.start else max(df[hist_col].max() for df in data)*1.1\n",
    "                x_range.value = (x_range.start, x_range.end)\n",
    "                x_range.step = (x_range.end-x_range.start)/50\n",
    "        range = x_range.value\n",
    "        \n",
    "        if isinstance(data, list):\n",
    "            plot = pn.Row(*categorical_2d_histogram(data, category_col, hist_col, bins, range, normalize_rows, precision, color_mapper=None, hist_col_is_categorical=x_is_categorical, width=width, height=height))\n",
    "        elif isinstance(data, pd.DataFrame):\n",
    "            plot = pn.Row(categorical_2d_histogram(data, category_col, hist_col, bins, range, normalize_rows, precision, color_mapper=None, hist_col_is_categorical=x_is_categorical, width=width, height=height))\n",
    "        return plot\n",
    "    \n",
    "    return pn.Column(config_gui, _plot)"
   ]
  },
  {
   "cell_type": "code",
   "execution_count": null,
   "metadata": {},
   "outputs": [],
   "source": [
    "categorical_2d_histogram_with_gui(test_data)"
   ]
  },
  {
   "cell_type": "code",
   "execution_count": null,
   "metadata": {},
   "outputs": [],
   "source": [
    "categorical_2d_histogram_with_gui([test_data, test_data])"
   ]
  },
  {
   "cell_type": "code",
   "execution_count": null,
   "metadata": {},
   "outputs": [],
   "source": [
    "#export\n",
    "def scatter_plot_with_gui(dataframe: pd.DataFrame, x_cols: list = None, y_cols: list = None, color_cols: list=None, with_hist: bool=True, width=500, height=500):\n",
    "    x_cols = list(dataframe.columns) if x_cols is None else x_cols\n",
    "    y_cols = list(dataframe.columns) if y_cols is None else y_cols\n",
    "    \n",
    "    divider = 2\n",
    "    \n",
    "    if color_cols is not None:\n",
    "        divider = 3\n",
    "        color_select = pnw.Select(name=\"Color\", options=color_cols, height=50, width=width//divider)\n",
    "    \n",
    "    x_select = pnw.Select(name=\"X-Axis\", options=x_cols, height=50, width=width//divider)\n",
    "    y_select = pnw.Select(name=\"Y-Axis\", options=y_cols, height=50, width=width//divider)\n",
    "    \n",
    "    if color_cols is None:\n",
    "        gui = pn.Column(pn.Row(x_select, y_select), None)\n",
    "    else:\n",
    "        gui = pn.Column(pn.Row(x_select, y_select, color_select), None)\n",
    "    \n",
    "    def plot(event):\n",
    "        x_col = x_select.value\n",
    "        y_col = y_select.value\n",
    "        df_copy = dataframe.copy()\n",
    "        if color_cols is not None:\n",
    "            color_col = color_select.value\n",
    "            df_copy[color_col] = df_copy[color_col].astype(str)\n",
    "        source = ColumnDataSource(df_copy)\n",
    "\n",
    "        if color_cols is not None:\n",
    "            if 3 <= df_copy[color_col].nunique() <= 20:\n",
    "                colors = Category20[df_copy[color_col].nunique()]\n",
    "            else:\n",
    "                colors = viridis(df_copy[color_col].nunique())\n",
    "        else:\n",
    "            colors=\"navy\"\n",
    "        tooltips = [(color_col, f\"@{color_col}\")] if color_cols is not None else None\n",
    "        \n",
    "        p = figure(width=width, height=height-50, x_axis_label=x_col, y_axis_label=y_col, tooltips=tooltips)\n",
    "        # radius = min(df_copy[x_col].max()-df_copy[x_col].min(), df_copy[y_col].max()-df_copy[y_col].min())/75 * max(1, np.log(max(df_copy[x_col].max()-df_copy[x_col].min(), df_copy[y_col].max()-df_copy[y_col].min()))/20)\n",
    "        if color_cols is not None:\n",
    "            for index, entry in enumerate(df_copy[color_col].unique()):\n",
    "                local_source = df_copy[df_copy[color_col] == entry]\n",
    "                p.scatter(x=x_col, y=y_col, legend_label=entry, source=local_source, color=colors[index])\n",
    "            p.js_on_event(events.DoubleTap, toggle_legend_js(p))\n",
    "            p.legend.click_policy=\"hide\"\n",
    "        else:\n",
    "            p.scatter(x=x_col, y=y_col, source=source)\n",
    "            \n",
    "        if with_hist:\n",
    "            hist_x = histogram(df_copy[x_col].values, 30, remove_tools=True, height=height//5, width=width)\n",
    "            hist_x.x_range = p.x_range\n",
    "            hist_y = histogram(df_copy[y_col].values, 30, remove_tools=True, orientation=\"vertical\", width=width//5, height=height//7*6)\n",
    "            hist_y.y_range = p.y_range\n",
    "            gui[-1] = gridplot([[hist_x, None], [p, hist_y]], merge_tools=True)\n",
    "        else:\n",
    "            gui[-1] = p\n",
    "    plot(None)\n",
    "    \n",
    "    if color_cols is not None:\n",
    "        color_select.param.watch(plot, \"value\")\n",
    "    x_select.param.watch(plot, \"value\")\n",
    "    y_select.param.watch(plot, \"value\")\n",
    "\n",
    "    return gui"
   ]
  },
  {
   "cell_type": "code",
   "execution_count": null,
   "metadata": {},
   "outputs": [],
   "source": [
    "test_df = pd.DataFrame({\"a\": np.random.randint(0, 100, 10), \"b\": np.random.randint(0, 100, 10), \"c\": np.random.randint(0, 100, 10), \"color_a\": [1,2,3,1,1,1,2,3,1,2], \"color_b\": [1,3,3,3,2,2,2,3,1,1]})\n",
    "scatter_plot_with_gui(test_df, x_cols=[\"a\", \"b\", \"c\"], y_cols=[\"a\", \"b\", \"c\"])"
   ]
  },
  {
   "cell_type": "code",
   "execution_count": null,
   "metadata": {},
   "outputs": [],
   "source": [
    "test_df = pd.DataFrame({\"a\": np.random.randint(0, 100, 10), \"b\": np.random.randint(0, 100, 10), \"c\": np.random.randint(0, 100, 10), \"color_a\": [1,2,3,1,1,1,2,3,1,2], \"color_b\": [1,3,3,3,2,2,2,3,1,1]})\n",
    "scatter_plot_with_gui(test_df, x_cols=[\"a\", \"b\", \"c\"], y_cols=[\"a\", \"b\", \"c\"], color_cols=[\"color_a\", \"color_b\"])"
   ]
  },
  {
   "cell_type": "code",
   "execution_count": null,
   "metadata": {},
   "outputs": [],
   "source": [
    "#export\n",
    "def plots_as_matrix(plots, ncols, nrows, width=500, height=500):\n",
    "    \"\"\"Takes a list of plots and puts them into a matrix\"\"\"\n",
    "    plot_matrix = pn.GridSpec(ncols=ncols, nrows=nrows, width=width, height=height)\n",
    "    for index, plot in enumerate(plots):\n",
    "        row_pos = index//ncols\n",
    "        col_pos = index%ncols\n",
    "        if row_pos >= nrows:\n",
    "            break\n",
    "        else:\n",
    "            plot_matrix[row_pos, col_pos] = plot\n",
    "    return plot_matrix"
   ]
  },
  {
   "cell_type": "code",
   "execution_count": null,
   "metadata": {},
   "outputs": [],
   "source": [
    "hists = [histogram(np.array(np.random.randint(0, 100, 1000)), bins=4, range=(1,4), density=True) for i in range(10)]\n",
    "plots_as_matrix(hists, 3, 4, width=1000, height=1000)"
   ]
  }
 ],
 "metadata": {
  "kernelspec": {
   "display_name": "Python 3 (ipykernel)",
   "language": "python",
   "name": "python3"
  },
  "language_info": {
   "codemirror_mode": {
    "name": "ipython",
    "version": 3
   },
   "file_extension": ".py",
   "mimetype": "text/x-python",
   "name": "python",
   "nbconvert_exporter": "python",
   "pygments_lexer": "ipython3",
   "version": "3.10.8"
  }
 },
 "nbformat": 4,
 "nbformat_minor": 4
}
