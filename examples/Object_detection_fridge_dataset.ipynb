{
 "cells": [
  {
   "cell_type": "markdown",
   "id": "fatal-security",
   "metadata": {},
   "source": [
    "# Object Detection\n",
    "In this notebook we will have a look at the fridge dataset using different dashboards."
   ]
  },
  {
   "cell_type": "code",
   "execution_count": null,
   "id": "toxic-brave",
   "metadata": {},
   "outputs": [],
   "source": [
    "# Imports\n",
    "import pathlib\n",
    "\n",
    "import panel as pn\n",
    "\n",
    "from icevision.all import *\n",
    "import icedata\n",
    "from icevision_dashboards.dashboards import *\n",
    "from icevision_dashboards.data import *"
   ]
  },
  {
   "cell_type": "code",
   "execution_count": null,
   "id": "provincial-ambassador",
   "metadata": {},
   "outputs": [],
   "source": [
    "pn.extension()"
   ]
  },
  {
   "cell_type": "markdown",
   "id": "forced-rebound",
   "metadata": {},
   "source": [
    "# Setup data\n",
    "First we load the data in the typical icevision fashion"
   ]
  },
  {
   "cell_type": "code",
   "execution_count": null,
   "id": "documented-albert",
   "metadata": {},
   "outputs": [],
   "source": [
    "# Load the Fridge dataset\n",
    "path = icedata.fridge.load_data()\n",
    "\n",
    "# get the class map\n",
    "class_map = icedata.fridge.class_map()\n",
    "\n",
    "# parse the data\n",
    "parser = icedata.fridge.parser(data_dir=path)\n",
    "# we just want to have a look at the data so we don't split the data\n",
    "records = parser.parse(RandomSplitter([1]))[0]"
   ]
  },
  {
   "cell_type": "markdown",
   "id": "ceramic-lesbian",
   "metadata": {},
   "source": [
    "## Prepare the data for the dashboard\n",
    "To use the records with various dashboards we need to first create dataset that contains all the required data. For this the `BboxRecordDataset` can be used (to learn more about `datasets` and `dashboards` take a look at the notebooks: N1, N2), it takes a list of records and calulates different statistics which can be used by the dashboards."
   ]
  },
  {
   "cell_type": "code",
   "execution_count": null,
   "id": "continuing-struggle",
   "metadata": {},
   "outputs": [],
   "source": [
    "# create a dataset that can be consumed by a dashboard\n",
    "# use the class map for nicer representation\n",
    "fridge_ds = BboxRecordDataset(records, class_map)"
   ]
  },
  {
   "cell_type": "markdown",
   "id": "temporal-despite",
   "metadata": {},
   "source": [
    "The overview has four tabs that display different information about the dataset.\n",
    "\n",
    "1. Dataset stats: General statistics about the dataset (images, and classes)\n",
    "2. Annotations: Plots to investigate the distributions of diffrent aspects\n",
    "3. Gallery: A sortable gallery of the images in the dataset\n",
    "4. Dataset: A table containing the reach annotation as a row and corrospoinding stats as the columns"
   ]
  },
  {
   "cell_type": "code",
   "execution_count": null,
   "id": "cellular-feature",
   "metadata": {},
   "outputs": [],
   "source": [
    "# create dashboard that gives us an overview of the dataset\n",
    "fridge_overview = ObjectDetectionDatasetOverview(fridge_ds, 700, 1200)\n",
    "# every dashboard has a show function to display the dashboard\n",
    "# if only a list with text is showing you might have forgotten to run pn.extension() in a cell\n",
    "fridge_overview.show()"
   ]
  },
  {
   "cell_type": "markdown",
   "id": "major-bridal",
   "metadata": {},
   "source": [
    "# Comparing datasets\n",
    "We split the records into training and validation records and compare the two datasets. The comparison dashboard is very similar to the Overview dashboard but it allows for linking plots the make them comparable. "
   ]
  },
  {
   "cell_type": "code",
   "execution_count": null,
   "id": "numeric-round",
   "metadata": {},
   "outputs": [],
   "source": [
    "# lets split the data and compare the two\n",
    "train_records, valid_records = parser.parse()"
   ]
  },
  {
   "cell_type": "code",
   "execution_count": null,
   "id": "starting-impression",
   "metadata": {},
   "outputs": [],
   "source": [
    "# create two datasets for the comparison dashboard\n",
    "dash_ds_train = BboxRecordDataset(train_records, class_map, name=\"fridge_train\")\n",
    "dash_ds_valid = BboxRecordDataset(valid_records, class_map, name=\"fridge_valid\")"
   ]
  },
  {
   "cell_type": "code",
   "execution_count": null,
   "id": "a21acc16-e011-46db-98cd-8fe961ec1bc1",
   "metadata": {},
   "outputs": [],
   "source": [
    "# save the two datasets for later use\n",
    "# dash_ds_train.save(\"test_data/\")\n",
    "# dash_ds_valid.save(\"test_data/\")"
   ]
  },
  {
   "cell_type": "code",
   "execution_count": null,
   "id": "curious-alert",
   "metadata": {},
   "outputs": [],
   "source": [
    "# create the comparison dashboard and display it\n",
    "comparison_dashboard = ObjectDetectionDatasetComparison([dash_ds_train, dash_ds_valid], 500, 1500)\n",
    "comparison_dashboard.show()"
   ]
  },
  {
   "cell_type": "markdown",
   "id": "sufficient-basis",
   "metadata": {},
   "source": [
    "# Train model\n",
    "The validation and trainings dataset look good, so we can start training."
   ]
  },
  {
   "cell_type": "code",
   "execution_count": null,
   "id": "boxed-milan",
   "metadata": {},
   "outputs": [],
   "source": [
    "# Define transforms\n",
    "train_tfms = tfms.A.Adapter(\n",
    "    [*tfms.A.aug_tfms(size=384, presize=512), tfms.A.Normalize()]\n",
    ")\n",
    "valid_tfms = tfms.A.Adapter([*tfms.A.resize_and_pad(384), tfms.A.Normalize()])"
   ]
  },
  {
   "cell_type": "code",
   "execution_count": null,
   "id": "damaged-orbit",
   "metadata": {},
   "outputs": [],
   "source": [
    "# Create datasets for training\n",
    "train_ds = Dataset(train_records, train_tfms)\n",
    "valid_ds = Dataset(valid_records, valid_tfms)"
   ]
  },
  {
   "cell_type": "markdown",
   "id": "fa083768-bae5-41e0-8dfd-6c3f24b9b454",
   "metadata": {},
   "source": [
    "## Model Setup\n",
    "\n",
    "Below the different models and libaries are provided so you can test the result dashboard for different models/libaries. Just uncomment the model you want to test and comment out all other models. Some models might require additional installs (see the icevison installation guide)."
   ]
  },
  {
   "cell_type": "markdown",
   "id": "64f22d5c-1aed-400e-9092-243f178a10c7",
   "metadata": {},
   "source": [
    "### Torchvision - Faster RCNN"
   ]
  },
  {
   "cell_type": "code",
   "execution_count": null,
   "id": "18b1a13e-cd71-460f-a9eb-10572cb35f8c",
   "metadata": {},
   "outputs": [],
   "source": [
    "# model_type = models.torchvision.faster_rcnn\n",
    "# backbone = model_type.backbones.resnet18_fpn(pretrained=True)\n",
    "# extra_params = {}"
   ]
  },
  {
   "cell_type": "markdown",
   "id": "24c8cb9c-ac0b-417b-8088-6e30187d119f",
   "metadata": {},
   "source": [
    "### Torchvision - Retinanet"
   ]
  },
  {
   "cell_type": "code",
   "execution_count": null,
   "id": "a13e891c-d3e1-4570-8102-92e0d543cc6b",
   "metadata": {
    "tags": []
   },
   "outputs": [],
   "source": [
    "# model_type = models.torchvision.retinanet\n",
    "# backbone = model_type.backbones.resnet18_fpn(pretrained=True)\n",
    "# extra_params = {}"
   ]
  },
  {
   "cell_type": "markdown",
   "id": "6ae8139b-16a4-4365-b878-1b168333da8a",
   "metadata": {},
   "source": [
    "### MMLab - FCOS"
   ]
  },
  {
   "cell_type": "code",
   "execution_count": null,
   "id": "27e1007e-6dbf-4453-8028-23d69a4b53f0",
   "metadata": {},
   "outputs": [],
   "source": [
    "# model_type = models.mmdet.fcos\n",
    "# backbone = model_type.backbones.resnet50_caffe_fpn_gn_head_dcn_1x_center_normbbox_centeronreg_giou(pretrained=True)\n",
    "# extra_params = {}"
   ]
  },
  {
   "cell_type": "markdown",
   "id": "1d64012f-3f87-448e-97f8-4d132dbd85e2",
   "metadata": {},
   "source": [
    "### MMLab - Faster RCNN"
   ]
  },
  {
   "cell_type": "code",
   "execution_count": null,
   "id": "224439a9-af11-407e-b2ee-6bf8a9eba314",
   "metadata": {},
   "outputs": [],
   "source": [
    "# model_type = models.mmdet.faster_rcnn\n",
    "# backbone = model_type.backbones.resnet50_fpn_1x(pretrained=True)\n",
    "# extra_params = {}"
   ]
  },
  {
   "cell_type": "markdown",
   "id": "f011d5f1-014b-4a0a-b4d6-39613ec5f6bb",
   "metadata": {},
   "source": [
    "### MMLab - VFNet"
   ]
  },
  {
   "cell_type": "code",
   "execution_count": null,
   "id": "aae4a376-1d4c-4268-8022-c7f88a4a8803",
   "metadata": {},
   "outputs": [],
   "source": [
    "model_type = models.mmdet.vfnet\n",
    "backbone = model_type.backbones.resnet50_fpn_1x(pretrained=True)\n",
    "extra_params = {}"
   ]
  },
  {
   "cell_type": "markdown",
   "id": "d1e5c29a-fc11-4249-9c61-64b009006aa0",
   "metadata": {},
   "source": [
    "### MMLab - Retinanet"
   ]
  },
  {
   "cell_type": "code",
   "execution_count": null,
   "id": "a3ebd73e-1ca8-4502-b103-02a0f87a3631",
   "metadata": {},
   "outputs": [],
   "source": [
    "# model_type = models.mmdet.retinanet\n",
    "# backbone = model_type.backbones.resnet50_fpn_1x(pretrained=True)\n",
    "# extra_params = {}"
   ]
  },
  {
   "cell_type": "markdown",
   "id": "728b389e-676a-4304-b67d-a5cf8e528c1f",
   "metadata": {},
   "source": [
    "### MMLab - Sparse RCNN (broken)"
   ]
  },
  {
   "cell_type": "code",
   "execution_count": null,
   "id": "c7316952-b712-47b2-b440-f853ed12d3fc",
   "metadata": {
    "tags": []
   },
   "outputs": [],
   "source": [
    "# model_type = models.mmdet.sparse_rcnn\n",
    "# backbone = model_type.backbones.resnet50_fpn_1x(pretrained=True)\n",
    "# extra_params = {}"
   ]
  },
  {
   "cell_type": "markdown",
   "id": "0851e41b-30c0-4c08-a9bc-f99089b97195",
   "metadata": {},
   "source": [
    "### TIMM - EfficientDet (broken)"
   ]
  },
  {
   "cell_type": "code",
   "execution_count": null,
   "id": "f6dbcf00-68ff-45b4-a8eb-cc52f8d33388",
   "metadata": {
    "tags": []
   },
   "outputs": [],
   "source": [
    "# model_type = models.efficientdet\n",
    "# backbone = model_type.backbones.tf_d6(pretrained=True)\n",
    "# extra_params = {\"img_size\": 384}"
   ]
  },
  {
   "cell_type": "markdown",
   "id": "a98327bf-3ba8-4a7f-a036-0a1b8b924e03",
   "metadata": {},
   "source": [
    "### Build model"
   ]
  },
  {
   "cell_type": "code",
   "execution_count": null,
   "id": "702b1916-f10d-49de-abef-302b76c1a792",
   "metadata": {
    "jupyter": {
     "outputs_hidden": true
    },
    "tags": []
   },
   "outputs": [],
   "source": [
    "# Create model and train it using fastai2\n",
    "model = model_type.model(backbone=backbone, num_classes=len(class_map), **extra_params)\n",
    "metrics = [COCOMetric(metric_type=COCOMetricType.bbox)]\n",
    "\n",
    "# Create dataloaders from the datasets\n",
    "train_dl = model_type.train_dl(train_ds, batch_size=1, num_workers=4, shuffle=True)\n",
    "valid_dl = model_type.valid_dl(valid_ds, batch_size=1, num_workers=4, shuffle=False)\n",
    "\n",
    "learn = model_type.fastai.learner(\n",
    "    dls=[train_dl, valid_dl], model=model, metrics=metrics\n",
    ")\n",
    "\n",
    "learn.fine_tune(5, freeze_epochs=3, base_lr=1e-4)"
   ]
  },
  {
   "cell_type": "markdown",
   "id": "helpful-jonathan",
   "metadata": {},
   "source": [
    "## Analyse the result"
   ]
  },
  {
   "cell_type": "code",
   "execution_count": null,
   "id": "classified-trade",
   "metadata": {},
   "outputs": [],
   "source": [
    "# we can now get the losses and predictions of the validation dataset\n",
    "samples, preds, losses_stats = model_type.interp.plot_top_losses(model=model, dataset=valid_ds, sort_by=\"loss_total\", n_samples=1, batch_size=2)"
   ]
  },
  {
   "cell_type": "code",
   "execution_count": null,
   "id": "wired-impact",
   "metadata": {
    "tags": []
   },
   "outputs": [],
   "source": [
    "# first create a dataset that can be consumed by the analysis dashboard\n",
    "valid_result_ds = ObjectDetectionResultsDataset.init_from_preds_and_samples(preds, samples, class_map=class_map)"
   ]
  },
  {
   "cell_type": "markdown",
   "id": "compliant-mount",
   "metadata": {},
   "source": [
    "## Saving and loading a result dataset\n",
    "We can save the result data for further evaluation at a later point."
   ]
  },
  {
   "cell_type": "code",
   "execution_count": null,
   "id": "incorrect-extra",
   "metadata": {},
   "outputs": [],
   "source": [
    "# save the results\n",
    "valid_result_ds.save(\"datasets/object_detection_result_ds.dat\")"
   ]
  },
  {
   "cell_type": "code",
   "execution_count": null,
   "id": "a9ec381e-cf58-4dda-950b-ecbc91e1ed26",
   "metadata": {},
   "outputs": [],
   "source": [
    "# load the results\n",
    "valid_result_ds = ObjectDetectionResultsDataset.load(\"datasets/object_detection_result_ds.dat\")"
   ]
  },
  {
   "cell_type": "code",
   "execution_count": null,
   "id": "sunset-electronics",
   "metadata": {},
   "outputs": [],
   "source": [
    "# show the results in a dashboard\n",
    "result_overview_dash = ObjectDetectionResultOverview(valid_result_ds, width=1500)\n",
    "result_overview_dash.show()"
   ]
  },
  {
   "cell_type": "markdown",
   "id": "automatic-alberta",
   "metadata": {},
   "source": [
    "Because the recalculation of the layout can take some time the two main tabs can also be shown independenly which given a better performance for the interative plots. Make sure that you clear the output from the cell that shows the full dashboard, because the dashboards are the same and an update to one also transfers to the other."
   ]
  },
  {
   "cell_type": "code",
   "execution_count": null,
   "id": "western-motivation",
   "metadata": {},
   "outputs": [],
   "source": [
    "# only show the loss tab\n",
    "# result_overview_dash.show_loss_tab()"
   ]
  },
  {
   "cell_type": "code",
   "execution_count": null,
   "id": "engaged-chrome",
   "metadata": {},
   "outputs": [],
   "source": [
    "# only show the ap tab\n",
    "# result_overview_dash.show_ap_tab()"
   ]
  },
  {
   "cell_type": "code",
   "execution_count": null,
   "id": "mighty-bahamas",
   "metadata": {},
   "outputs": [],
   "source": []
  },
  {
   "cell_type": "code",
   "execution_count": null,
   "id": "b7b51de0-cce5-48e5-b0e2-7e9567eb47ce",
   "metadata": {},
   "outputs": [],
   "source": []
  }
 ],
 "metadata": {
  "kernelspec": {
   "display_name": "Python 3",
   "language": "python",
   "name": "python3"
  },
  "language_info": {
   "codemirror_mode": {
    "name": "ipython",
    "version": 3
   },
   "file_extension": ".py",
   "mimetype": "text/x-python",
   "name": "python",
   "nbconvert_exporter": "python",
   "pygments_lexer": "ipython3",
   "version": "3.9.5"
  }
 },
 "nbformat": 4,
 "nbformat_minor": 5
}
